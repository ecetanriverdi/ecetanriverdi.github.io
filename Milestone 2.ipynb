{
 "cells": [
  {
   "cell_type": "markdown",
   "metadata": {},
   "source": [
    "## IMMIGRATION TRENDS IN THE UNITED STATES"
   ]
  },
  {
   "cell_type": "markdown",
   "metadata": {},
   "source": [
    "Ece Tanriverdi \n",
    "\n",
    "Link to my Github Webpage: NEW WEBPAGE HERE after you finish your whole  milestone update your webpage\n"
   ]
  },
  {
   "cell_type": "code",
   "execution_count": 346,
   "metadata": {},
   "outputs": [],
   "source": [
    "import pandas as pd\n",
    "import numpy as np \n",
    "import matplotlib.pyplot as plt\n",
    "import seaborn as sb\n",
    "from matplotlib.ticker import MaxNLocator\n"
   ]
  },
  {
   "cell_type": "markdown",
   "metadata": {},
   "source": [
    "## Project Goals ( edit this part bc, cahnged some stuff)\n"
   ]
  },
  {
   "cell_type": "markdown",
   "metadata": {},
   "source": [
    "The team, **Ece Tanriverdi**, will be investigating data sets related to immigration trends in the United States. The project will focus on examining various demographic variables such as country of origin, rates of voluntary versus forced immigration, and settlement patterns across U.S. states. At this stage, I am considering a few data sets that provide comprehensive insights into immigration to the U.S. over the past decade(2013-2023). These data sets will be crucial in understanding the shifts in immigration patterns, especially in light of major global events like COVID-19.\n",
    "\n",
    "The data I am using from Migration Policy Institue (MP) state atractions is found here: https://public.tableau.com/app/profile/mpi.data.hub/viz/ACSimmigrantgroupsbystateandcounty_2018-22/Dashboard1\n",
    "\n",
    "The data I am using from MPI about languages is found here: https://www.migrationpolicy.org/data/state-profiles/state/language/US//\n",
    "\n",
    "The data I am using from MPI about Immigrantsis found here: https://www.migrationpolicy.org/programs/data-hub/charts/immigrant-population-over-time?width=1000&height=850&iframe=true"
   ]
  },
  {
   "cell_type": "markdown",
   "metadata": {},
   "source": [
    "The data will be sourced from the Migration Policy Institute (MPI), which provides detailed statistics on state attractions, languages spoken at home, and immigrant populations. Using this data, I aim to explore several key questions, including:\n",
    "\n",
    "- Which states are most popular for immigrant settlement, ranked by population size?\n",
    "- How does the immigrant population compare to the overall U.S. population?\n",
    "- What languages are most commonly spoken at home besides English?\n",
    "\n",
    "**Initial Steps**  \n",
    "My approach will begin with extracting, transforming, and loading (ETL) the data from MPI to ensure it is clean and ready for analysis. I will focus on identifying three to five key statistics that highlight interesting trends in immigration, such as:\n",
    "\n",
    "- The top five states chosen by immigrants.\n",
    "- Significant changes in immigration rates post-COVID-19.\n",
    "- Any language shifts over the past decade.\n",
    "\n",
    "A preliminary graph will be created to visualize the number of immigrants over time, which will provide a clearer picture of these trends and inform further analysis."
   ]
  },
  {
   "cell_type": "markdown",
   "metadata": {},
   "source": [
    "## Collaboration Plan"
   ]
  },
  {
   "cell_type": "markdown",
   "metadata": {},
   "source": [
    "Since I am working on this project independently, I will maintain a consistent schedule to meet the project goals. I plan to set up weekly work sessions and will upload all relevant code and data analysis to a private GitHub repository. I will also use Jupyter Notebooks to document the ETL process and track progress. Any challenges or difficulties in formatting and tidying the data will be documented for review."
   ]
  },
  {
   "cell_type": "markdown",
   "metadata": {},
   "source": [
    "## IMMIGRANTS THEN AND NOW"
   ]
  },
  {
   "cell_type": "markdown",
   "metadata": {},
   "source": [
    "I loaded a CSV file into a DataFrame, then dropped the first 19 rows to make it cleaner because I didn't need that data. Finally, I displayed the first 10 rows of the modified DataFrame to inspect the data."
   ]
  },
  {
   "cell_type": "code",
   "execution_count": 347,
   "metadata": {},
   "outputs": [
    {
     "data": {
      "text/html": [
       "<div>\n",
       "<style scoped>\n",
       "    .dataframe tbody tr th:only-of-type {\n",
       "        vertical-align: middle;\n",
       "    }\n",
       "\n",
       "    .dataframe tbody tr th {\n",
       "        vertical-align: top;\n",
       "    }\n",
       "\n",
       "    .dataframe thead th {\n",
       "        text-align: right;\n",
       "    }\n",
       "</style>\n",
       "<table border=\"1\" class=\"dataframe\">\n",
       "  <thead>\n",
       "    <tr style=\"text-align: right;\">\n",
       "      <th></th>\n",
       "      <th>Year</th>\n",
       "      <th>Number of Immigrants</th>\n",
       "      <th>Immigrants as a Percentage of the U.S. Population</th>\n",
       "    </tr>\n",
       "  </thead>\n",
       "  <tbody>\n",
       "    <tr>\n",
       "      <th>19</th>\n",
       "      <td>2013</td>\n",
       "      <td>41,348,100</td>\n",
       "      <td>13.10%</td>\n",
       "    </tr>\n",
       "    <tr>\n",
       "      <th>20</th>\n",
       "      <td>2014</td>\n",
       "      <td>42,391,800</td>\n",
       "      <td>13.30%</td>\n",
       "    </tr>\n",
       "    <tr>\n",
       "      <th>21</th>\n",
       "      <td>2015</td>\n",
       "      <td>43,290,400</td>\n",
       "      <td>13.50%</td>\n",
       "    </tr>\n",
       "    <tr>\n",
       "      <th>22</th>\n",
       "      <td>2016</td>\n",
       "      <td>43,739,300</td>\n",
       "      <td>13.50%</td>\n",
       "    </tr>\n",
       "    <tr>\n",
       "      <th>23</th>\n",
       "      <td>2017</td>\n",
       "      <td>44,525,900</td>\n",
       "      <td>13.70%</td>\n",
       "    </tr>\n",
       "    <tr>\n",
       "      <th>24</th>\n",
       "      <td>2018</td>\n",
       "      <td>44,728,700</td>\n",
       "      <td>13.70%</td>\n",
       "    </tr>\n",
       "    <tr>\n",
       "      <th>25</th>\n",
       "      <td>2019</td>\n",
       "      <td>44,932,900</td>\n",
       "      <td>13.70%</td>\n",
       "    </tr>\n",
       "    <tr>\n",
       "      <th>26</th>\n",
       "      <td>2021</td>\n",
       "      <td>45,270,100</td>\n",
       "      <td>13.60%</td>\n",
       "    </tr>\n",
       "    <tr>\n",
       "      <th>27</th>\n",
       "      <td>2022</td>\n",
       "      <td>46,182,200</td>\n",
       "      <td>13.90%</td>\n",
       "    </tr>\n",
       "    <tr>\n",
       "      <th>28</th>\n",
       "      <td>2023</td>\n",
       "      <td>47,831,400</td>\n",
       "      <td>14.30%</td>\n",
       "    </tr>\n",
       "  </tbody>\n",
       "</table>\n",
       "</div>"
      ],
      "text/plain": [
       "    Year Number of Immigrants  \\\n",
       "19  2013           41,348,100   \n",
       "20  2014           42,391,800   \n",
       "21  2015           43,290,400   \n",
       "22  2016           43,739,300   \n",
       "23  2017           44,525,900   \n",
       "24  2018           44,728,700   \n",
       "25  2019           44,932,900   \n",
       "26  2021           45,270,100   \n",
       "27  2022           46,182,200   \n",
       "28  2023           47,831,400   \n",
       "\n",
       "   Immigrants as a Percentage of the U.S. Population  \n",
       "19                                            13.10%  \n",
       "20                                            13.30%  \n",
       "21                                            13.50%  \n",
       "22                                            13.50%  \n",
       "23                                            13.70%  \n",
       "24                                            13.70%  \n",
       "25                                            13.70%  \n",
       "26                                            13.60%  \n",
       "27                                            13.90%  \n",
       "28                                            14.30%  "
      ]
     },
     "execution_count": 347,
     "metadata": {},
     "output_type": "execute_result"
    }
   ],
   "source": [
    "refugee = pd.read_csv(\"/Users/athleticsimage/Desktop/CMPS3160_FinalProject/CMPS3160_FinalProject/MPI-Data-Hub_Imm_N-Percent-US-Pop_2023.csv\")\n",
    "refugee = refugee.drop(range(0, 19))\n",
    "refugee.head(10)"
   ]
  },
  {
   "cell_type": "markdown",
   "metadata": {},
   "source": [
    "I identified the year with the highest number of immigrants by using the `idxmax()` function on the \"Number of Immigrants\" column. This allowed me to retrieve the row corresponding to that year and view the details of the maximum immigrant count."
   ]
  },
  {
   "cell_type": "code",
   "execution_count": 348,
   "metadata": {},
   "outputs": [
    {
     "data": {
      "text/plain": [
       "Year                                                       2023\n",
       "Number of Immigrants                                 47,831,400\n",
       "Immigrants as a Percentage of the U.S. Population        14.30%\n",
       "Name: 28, dtype: object"
      ]
     },
     "execution_count": 348,
     "metadata": {},
     "output_type": "execute_result"
    }
   ],
   "source": [
    "year_max_immigrants = refugee.loc[refugee['Number of Immigrants'].idxmax()]\n",
    "\n",
    "year_max_immigrants\n"
   ]
  },
  {
   "cell_type": "markdown",
   "metadata": {},
   "source": [
    "I created a bar chart to visualize the number of immigrants by year, highlighting trends over time. From the chart, I observed a noticeable dip in immigrant numbers around 2020, which likely reflects the impact of the COVID-19 pandemic, as global movement was severely restricted during that period. Afterward, there was a gradual recovery, suggesting that immigration rates began to rise again as restrictions eased and international mobility resumed."
   ]
  },
  {
   "cell_type": "code",
   "execution_count": 349,
   "metadata": {},
   "outputs": [
    {
     "data": {
      "image/png": "[encoded data removed]",
      "text/plain": [
       "<Figure size 1000x600 with 1 Axes>"
      ]
     },
     "metadata": {},
     "output_type": "display_data"
    }
   ],
   "source": [
    "plt.figure(figsize=(10, 6))\n",
    "plt.bar(refugee['Year'], refugee['Number of Immigrants'], color='purple')\n",
    "plt.xlabel('Year')\n",
    "plt.ylabel('Number of Immigrants')\n",
    "plt.title('Number of Immigrants by Year')\n",
    "plt.xticks(rotation=45)\n",
    "plt.tight_layout()\n",
    "plt.show()"
   ]
  },
  {
   "cell_type": "markdown",
   "metadata": {},
   "source": [
    "## State Attraction"
   ]
  },
  {
   "cell_type": "markdown",
   "metadata": {},
   "source": [
    "I first loaded a CSV file into a dataframe named state using pd.read_csv(). Then, I renamed the columns of the dataframe by assigning a new list of column names to state.columns. The new column names are: \"County,State\", \"County % by Origin\", \"Round County # Immigrant\", and \"Round Total Imm Pop\". After that, I displayed the first 10 rows of the dataframe using the head(10) method to get a quick preview of the data and verify that the columns were renamed correctly."
   ]
  },
  {
   "cell_type": "code",
   "execution_count": 350,
   "metadata": {},
   "outputs": [
    {
     "data": {
      "text/html": [
       "<div>\n",
       "<style scoped>\n",
       "    .dataframe tbody tr th:only-of-type {\n",
       "        vertical-align: middle;\n",
       "    }\n",
       "\n",
       "    .dataframe tbody tr th {\n",
       "        vertical-align: top;\n",
       "    }\n",
       "\n",
       "    .dataframe thead th {\n",
       "        text-align: right;\n",
       "    }\n",
       "</style>\n",
       "<table border=\"1\" class=\"dataframe\">\n",
       "  <thead>\n",
       "    <tr style=\"text-align: right;\">\n",
       "      <th></th>\n",
       "      <th>County,State</th>\n",
       "      <th>County % by Origin</th>\n",
       "      <th>Round County # Immigrant</th>\n",
       "      <th>Round Total Imm Pop</th>\n",
       "    </tr>\n",
       "  </thead>\n",
       "  <tbody>\n",
       "    <tr>\n",
       "      <th>0</th>\n",
       "      <td>Los Angeles County, California</td>\n",
       "      <td>7.3%</td>\n",
       "      <td>3,311,800.00</td>\n",
       "      <td>45,280,700</td>\n",
       "    </tr>\n",
       "    <tr>\n",
       "      <th>1</th>\n",
       "      <td>Miami-Dade County, Florida</td>\n",
       "      <td>3.2%</td>\n",
       "      <td>1,453,000.00</td>\n",
       "      <td>45,280,700</td>\n",
       "    </tr>\n",
       "    <tr>\n",
       "      <th>2</th>\n",
       "      <td>Harris County, Texas</td>\n",
       "      <td>2.7%</td>\n",
       "      <td>1,238,700.00</td>\n",
       "      <td>45,280,700</td>\n",
       "    </tr>\n",
       "    <tr>\n",
       "      <th>3</th>\n",
       "      <td>Queens County, New York</td>\n",
       "      <td>2.5%</td>\n",
       "      <td>1,112,800.00</td>\n",
       "      <td>45,280,700</td>\n",
       "    </tr>\n",
       "    <tr>\n",
       "      <th>4</th>\n",
       "      <td>Cook County, Illinois</td>\n",
       "      <td>2.4%</td>\n",
       "      <td>1,098,100.00</td>\n",
       "      <td>45,280,700</td>\n",
       "    </tr>\n",
       "    <tr>\n",
       "      <th>5</th>\n",
       "      <td>Kings County, New York</td>\n",
       "      <td>2.1%</td>\n",
       "      <td>945,500.00</td>\n",
       "      <td>45,280,700</td>\n",
       "    </tr>\n",
       "    <tr>\n",
       "      <th>6</th>\n",
       "      <td>Orange County, California</td>\n",
       "      <td>2.1%</td>\n",
       "      <td>937,300.00</td>\n",
       "      <td>45,280,700</td>\n",
       "    </tr>\n",
       "    <tr>\n",
       "      <th>7</th>\n",
       "      <td>Santa Clara County, California</td>\n",
       "      <td>1.7%</td>\n",
       "      <td>773,700.00</td>\n",
       "      <td>45,280,700</td>\n",
       "    </tr>\n",
       "    <tr>\n",
       "      <th>8</th>\n",
       "      <td>San Diego County, California</td>\n",
       "      <td>1.6%</td>\n",
       "      <td>743,000.00</td>\n",
       "      <td>45,280,700</td>\n",
       "    </tr>\n",
       "    <tr>\n",
       "      <th>9</th>\n",
       "      <td>Broward County, Florida</td>\n",
       "      <td>1.5%</td>\n",
       "      <td>687,700.00</td>\n",
       "      <td>45,280,700</td>\n",
       "    </tr>\n",
       "    <tr>\n",
       "      <th>10</th>\n",
       "      <td>Maricopa County, Arizona</td>\n",
       "      <td>1.4%</td>\n",
       "      <td>643,000.00</td>\n",
       "      <td>45,280,700</td>\n",
       "    </tr>\n",
       "    <tr>\n",
       "      <th>11</th>\n",
       "      <td>Dallas County, Texas</td>\n",
       "      <td>1.4%</td>\n",
       "      <td>641,700.00</td>\n",
       "      <td>45,280,700</td>\n",
       "    </tr>\n",
       "    <tr>\n",
       "      <th>12</th>\n",
       "      <td>Alameda County, California</td>\n",
       "      <td>1.2%</td>\n",
       "      <td>553,600.00</td>\n",
       "      <td>45,280,700</td>\n",
       "    </tr>\n",
       "    <tr>\n",
       "      <th>13</th>\n",
       "      <td>King County, Washington</td>\n",
       "      <td>1.2%</td>\n",
       "      <td>553,300.00</td>\n",
       "      <td>45,280,700</td>\n",
       "    </tr>\n",
       "    <tr>\n",
       "      <th>14</th>\n",
       "      <td>Riverside County, California</td>\n",
       "      <td>1.2%</td>\n",
       "      <td>526,000.00</td>\n",
       "      <td>45,280,700</td>\n",
       "    </tr>\n",
       "  </tbody>\n",
       "</table>\n",
       "</div>"
      ],
      "text/plain": [
       "                      County,State County % by Origin  \\\n",
       "0   Los Angeles County, California               7.3%   \n",
       "1       Miami-Dade County, Florida               3.2%   \n",
       "2             Harris County, Texas               2.7%   \n",
       "3          Queens County, New York               2.5%   \n",
       "4            Cook County, Illinois               2.4%   \n",
       "5           Kings County, New York               2.1%   \n",
       "6        Orange County, California               2.1%   \n",
       "7   Santa Clara County, California               1.7%   \n",
       "8     San Diego County, California               1.6%   \n",
       "9          Broward County, Florida               1.5%   \n",
       "10        Maricopa County, Arizona               1.4%   \n",
       "11            Dallas County, Texas               1.4%   \n",
       "12      Alameda County, California               1.2%   \n",
       "13         King County, Washington               1.2%   \n",
       "14    Riverside County, California               1.2%   \n",
       "\n",
       "   Round County # Immigrant Round Total Imm Pop  \n",
       "0              3,311,800.00          45,280,700  \n",
       "1              1,453,000.00          45,280,700  \n",
       "2              1,238,700.00          45,280,700  \n",
       "3              1,112,800.00          45,280,700  \n",
       "4              1,098,100.00          45,280,700  \n",
       "5                945,500.00          45,280,700  \n",
       "6                937,300.00          45,280,700  \n",
       "7                773,700.00          45,280,700  \n",
       "8                743,000.00          45,280,700  \n",
       "9                687,700.00          45,280,700  \n",
       "10               643,000.00          45,280,700  \n",
       "11               641,700.00          45,280,700  \n",
       "12               553,600.00          45,280,700  \n",
       "13               553,300.00          45,280,700  \n",
       "14               526,000.00          45,280,700  "
      ]
     },
     "execution_count": 350,
     "metadata": {},
     "output_type": "execute_result"
    }
   ],
   "source": [
    "state = pd.read_csv(\"/Users/athleticsimage/Desktop/CMPS3160_FinalProject/CMPS3160_FinalProject/state data.csv\")\n",
    "state.columns=[\"County,State\", \"County % by Origin\", \"Round County # Immigrant\", \"Round Total Imm Pop\"]\n",
    "\n",
    "state.head(15)\n",
    "\n"
   ]
  },
  {
   "cell_type": "markdown",
   "metadata": {},
   "source": [
    "I checked the data types of each column in the state dataframe by using the dtypes attribute to ensure that the columns are in the correct format for analysis."
   ]
  },
  {
   "cell_type": "code",
   "execution_count": 351,
   "metadata": {},
   "outputs": [
    {
     "data": {
      "text/plain": [
       "County,State                object\n",
       "County % by Origin          object\n",
       "Round County # Immigrant    object\n",
       "Round Total Imm Pop         object\n",
       "dtype: object"
      ]
     },
     "execution_count": 351,
     "metadata": {},
     "output_type": "execute_result"
    }
   ],
   "source": [
    "state.dtypes"
   ]
  },
  {
   "cell_type": "markdown",
   "metadata": {},
   "source": [
    "In this code, I first converted the 'Round County # Immigrant' and 'Round Total Imm Pop' columns to strings and removed any commas using str.replace(',',''). Then, I converted these columns back to float type for numerical analysis. For the 'County % by Origin' column, I stripped the percentage sign (%), converted the values to float, and divided by 100 to represent the percentages as decimal values. Finally, I used state.dtypes to check the data types of all the columns in the state dataframe to ensure the transformations were applied correctly."
   ]
  },
  {
   "cell_type": "code",
   "execution_count": 352,
   "metadata": {},
   "outputs": [
    {
     "data": {
      "text/plain": [
       "County,State                 object\n",
       "County % by Origin          float64\n",
       "Round County # Immigrant    float64\n",
       "Round Total Imm Pop         float64\n",
       "dtype: object"
      ]
     },
     "execution_count": 352,
     "metadata": {},
     "output_type": "execute_result"
    }
   ],
   "source": [
    "state['Round County # Immigrant'] = state['Round County # Immigrant'].astype(str).str.replace(',', '')\n",
    "state['Round Total Imm Pop'] = state['Round Total Imm Pop'].astype(str).str.replace(',', '')\n",
    "\n",
    "state['Round County # Immigrant'] = state['Round County # Immigrant'].astype(float)\n",
    "state['Round Total Imm Pop'] = state['Round Total Imm Pop'].astype(float)\n",
    "\n",
    "state['County % by Origin'] = state['County % by Origin'].astype(str).str.rstrip('%').astype(float) / 100\n",
    "\n",
    "state.dtypes"
   ]
  },
  {
   "cell_type": "markdown",
   "metadata": {},
   "source": [
    "I selected specific columns ('County % by Origin', 'Round County # Immigrant', and 'Round Total Imm Pop') from the df DataFrame to focus on these variables. I then used the .describe() function to generate summary statistics (like mean, standard deviation, min, max, etc.) for these columns, which helped me understand the data's distribution. Finally, I printed the summary statistics to display the results and gain insights into the central tendencies and spread of the selected data."
   ]
  },
  {
   "cell_type": "code",
   "execution_count": 353,
   "metadata": {},
   "outputs": [
    {
     "name": "stdout",
     "output_type": "stream",
     "text": [
      "Summary Statistics for the dataset:\n"
     ]
    },
    {
     "data": {
      "text/html": [
       "<div>\n",
       "<style scoped>\n",
       "    .dataframe tbody tr th:only-of-type {\n",
       "        vertical-align: middle;\n",
       "    }\n",
       "\n",
       "    .dataframe tbody tr th {\n",
       "        vertical-align: top;\n",
       "    }\n",
       "\n",
       "    .dataframe thead th {\n",
       "        text-align: right;\n",
       "    }\n",
       "</style>\n",
       "<table border=\"1\" class=\"dataframe\">\n",
       "  <thead>\n",
       "    <tr style=\"text-align: right;\">\n",
       "      <th></th>\n",
       "      <th>County % by Origin</th>\n",
       "      <th>Round County # Immigrant</th>\n",
       "      <th>Round Total Imm Pop</th>\n",
       "    </tr>\n",
       "  </thead>\n",
       "  <tbody>\n",
       "    <tr>\n",
       "      <th>count</th>\n",
       "      <td>15.000000</td>\n",
       "      <td>1.500000e+01</td>\n",
       "      <td>15.0</td>\n",
       "    </tr>\n",
       "    <tr>\n",
       "      <th>mean</th>\n",
       "      <td>0.022333</td>\n",
       "      <td>1.014613e+06</td>\n",
       "      <td>45280700.0</td>\n",
       "    </tr>\n",
       "    <tr>\n",
       "      <th>std</th>\n",
       "      <td>0.015300</td>\n",
       "      <td>6.931688e+05</td>\n",
       "      <td>0.0</td>\n",
       "    </tr>\n",
       "    <tr>\n",
       "      <th>min</th>\n",
       "      <td>0.012000</td>\n",
       "      <td>5.260000e+05</td>\n",
       "      <td>45280700.0</td>\n",
       "    </tr>\n",
       "    <tr>\n",
       "      <th>25%</th>\n",
       "      <td>0.014000</td>\n",
       "      <td>6.423500e+05</td>\n",
       "      <td>45280700.0</td>\n",
       "    </tr>\n",
       "    <tr>\n",
       "      <th>50%</th>\n",
       "      <td>0.017000</td>\n",
       "      <td>7.737000e+05</td>\n",
       "      <td>45280700.0</td>\n",
       "    </tr>\n",
       "    <tr>\n",
       "      <th>75%</th>\n",
       "      <td>0.024500</td>\n",
       "      <td>1.105450e+06</td>\n",
       "      <td>45280700.0</td>\n",
       "    </tr>\n",
       "    <tr>\n",
       "      <th>max</th>\n",
       "      <td>0.073000</td>\n",
       "      <td>3.311800e+06</td>\n",
       "      <td>45280700.0</td>\n",
       "    </tr>\n",
       "  </tbody>\n",
       "</table>\n",
       "</div>"
      ],
      "text/plain": [
       "       County % by Origin  Round County # Immigrant  Round Total Imm Pop\n",
       "count           15.000000              1.500000e+01                 15.0\n",
       "mean             0.022333              1.014613e+06           45280700.0\n",
       "std              0.015300              6.931688e+05                  0.0\n",
       "min              0.012000              5.260000e+05           45280700.0\n",
       "25%              0.014000              6.423500e+05           45280700.0\n",
       "50%              0.017000              7.737000e+05           45280700.0\n",
       "75%              0.024500              1.105450e+06           45280700.0\n",
       "max              0.073000              3.311800e+06           45280700.0"
      ]
     },
     "execution_count": 353,
     "metadata": {},
     "output_type": "execute_result"
    }
   ],
   "source": [
    "summary_stats = state[['County % by Origin', 'Round County # Immigrant', 'Round Total Imm Pop']].describe()\n",
    "\n",
    "print(\"Summary Statistics for the dataset:\")\n",
    "summary_stats"
   ]
  },
  {
   "cell_type": "markdown",
   "metadata": {},
   "source": [
    "I first cleaned the Round County # Immigrant column by removing commas and converting the values to floating-point numbers. I did this by using astype(str).str.replace(',', '').astype(float). Then, I sorted the data by the Round County # Immigrant column in descending order using sort_values() and selected the top 10 counties with the highest immigrant populations using head(10).\n",
    "\n",
    "Next, I created a horizontal bar chart with a figure size of (10, 6) to visualize the top 10 counties by immigrant population. The x-axis represents the number of immigrants, and the y-axis represents the county names. I set the bars to be green in color for better visualization. I labeled the x-axis as \"Number of Immigrants\", rotated the x-axis labels by 90 degrees for readability, and added a title to the plot. I also ensured the x-axis displayed only integer values by using MaxNLocator(integer=True) and inverted the y-axis with plt.gca().invert_yaxis() to display the counties with the highest immigrant populations at the top. Finally, I displayed the plot using plt.show()."
   ]
  },
  {
   "cell_type": "code",
   "execution_count": 354,
   "metadata": {},
   "outputs": [
    {
     "data": {
      "image/png": "[encoded data removed]",
      "text/plain": [
       "<Figure size 1000x600 with 1 Axes>"
      ]
     },
     "metadata": {},
     "output_type": "display_data"
    }
   ],
   "source": [
    "\n",
    "state['Round County # Immigrant'] = state['Round County # Immigrant'].astype(str).str.replace(',', '').astype(float)\n",
    "\n",
    "top_10_state = state.sort_values(by=\"Round County # Immigrant\", ascending=False).head(10)\n",
    "\n",
    "plt.figure(figsize=(10, 6))\n",
    "plt.barh(top_10_state[\"County,State\"], top_10_state[\"Round County # Immigrant\"], color='green')\n",
    "plt.xlabel('Number of Immigrants')\n",
    "plt.xticks(rotation=90)\n",
    "plt.title('Top 10 U.S. Counties by Immigrant Population')\n",
    "\n",
    "plt.gca().xaxis.set_major_locator(MaxNLocator(integer=True))\n",
    "plt.gca().invert_yaxis()\n",
    "\n",
    "plt.show()\n",
    "\n",
    "\n"
   ]
  },
  {
   "cell_type": "markdown",
   "metadata": {},
   "source": [
    "## LANGUAGES SPOKEN AT HOME"
   ]
  },
  {
   "cell_type": "markdown",
   "metadata": {},
   "source": [
    "I loaded a CSV file into a pandas data frame called language using the pd.read_csv() function. The head(10) method then displayed the first 10 rows of the data frame, giving me a quick preview of the data to understand its structure. After that, I used  language.dtypes to check the data types of each column in the data frame, which helped me verify that the columns were properly formatted (e.g., numbers were stored as integers or floats, and text as strings) before performing any analysis or operations."
   ]
  },
  {
   "cell_type": "code",
   "execution_count": 355,
   "metadata": {},
   "outputs": [
    {
     "data": {
      "text/plain": [
       "Language Spoken at Home (detailed, by English proficiency)    object\n",
       "Number                                                        object\n",
       "%                                                             object\n",
       "dtype: object"
      ]
     },
     "execution_count": 355,
     "metadata": {},
     "output_type": "execute_result"
    }
   ],
   "source": [
    "language = pd.read_csv(\"/Users/athleticsimage/Desktop/CMPS3160_FinalProject/CMPS3160_FinalProject/language home.csv\")\n",
    "language.head(10)\n",
    "language.dtypes"
   ]
  },
  {
   "cell_type": "markdown",
   "metadata": {},
   "source": [
    "I cleaned and converted the data in the language dataframe to ensure the columns were in the correct format for analysis. First, I converted the Number column to a string to remove any commas using astype(str) and str.replace(',', ''). Afterward, I converted the Number column back to an integer using astype(int) so it could be used for numerical calculations. Similarly, I cleaned the % column by first converting it to a string, stripping the '%' symbol with str.rstrip(%), and then converting it to a float. I divided the result by 100 to transform the percentage into a decimal. Finally, I used language.dtypes to verify that the data types of the columns had been updated correctly after these transformations."
   ]
  },
  {
   "cell_type": "code",
   "execution_count": 356,
   "metadata": {},
   "outputs": [
    {
     "data": {
      "text/plain": [
       "Language Spoken at Home (detailed, by English proficiency)     object\n",
       "Number                                                          int64\n",
       "%                                                             float64\n",
       "dtype: object"
      ]
     },
     "execution_count": 356,
     "metadata": {},
     "output_type": "execute_result"
    }
   ],
   "source": [
    "language['Number'] = language['Number'].astype(str).str.replace(',', '')\n",
    "language['Number'] = language['Number'].astype(int)\n",
    "\n",
    "language['%'] = language['%'].astype(str).str.rstrip('%').astype(float) / 100\n",
    "\n",
    "language.dtypes\n",
    "\n"
   ]
  },
  {
   "cell_type": "markdown",
   "metadata": {},
   "source": [
    "I selected and displayed the first 10 rows of two specific columns from the language dataframe: Language Spoken at Home (detailed, by English proficiency) and Number. By using language[['column1', 'column2']], I created a subset of the dataframe containing only the relevant columns. The head(10) function then showed the first 10 rows of this subset, allowing me to quickly inspect the data and verify that the values in these columns were as expected, without displaying the entire dataframe."
   ]
  },
  {
   "cell_type": "code",
   "execution_count": 357,
   "metadata": {},
   "outputs": [
    {
     "data": {
      "text/html": [
       "<div>\n",
       "<style scoped>\n",
       "    .dataframe tbody tr th:only-of-type {\n",
       "        vertical-align: middle;\n",
       "    }\n",
       "\n",
       "    .dataframe tbody tr th {\n",
       "        vertical-align: top;\n",
       "    }\n",
       "\n",
       "    .dataframe thead th {\n",
       "        text-align: right;\n",
       "    }\n",
       "</style>\n",
       "<table border=\"1\" class=\"dataframe\">\n",
       "  <thead>\n",
       "    <tr style=\"text-align: right;\">\n",
       "      <th></th>\n",
       "      <th>Language Spoken at Home (detailed, by English proficiency)</th>\n",
       "      <th>Number</th>\n",
       "    </tr>\n",
       "  </thead>\n",
       "  <tbody>\n",
       "    <tr>\n",
       "      <th>0</th>\n",
       "      <td>Total Household Population, Age 5 and Older</td>\n",
       "      <td>314929363</td>\n",
       "    </tr>\n",
       "    <tr>\n",
       "      <th>1</th>\n",
       "      <td>Speak only English</td>\n",
       "      <td>245687577</td>\n",
       "    </tr>\n",
       "    <tr>\n",
       "      <th>2</th>\n",
       "      <td>Speak language other than English</td>\n",
       "      <td>69241786</td>\n",
       "    </tr>\n",
       "    <tr>\n",
       "      <th>3</th>\n",
       "      <td>Spanish</td>\n",
       "      <td>42032538</td>\n",
       "    </tr>\n",
       "    <tr>\n",
       "      <th>4</th>\n",
       "      <td>Speak English \"very well\"</td>\n",
       "      <td>25274672</td>\n",
       "    </tr>\n",
       "    <tr>\n",
       "      <th>5</th>\n",
       "      <td>Speak English less than “very well” (LEP)</td>\n",
       "      <td>16757866</td>\n",
       "    </tr>\n",
       "    <tr>\n",
       "      <th>6</th>\n",
       "      <td>French (Including Cajun)</td>\n",
       "      <td>1222970</td>\n",
       "    </tr>\n",
       "    <tr>\n",
       "      <th>7</th>\n",
       "      <td>Speak English \"very well\"</td>\n",
       "      <td>964753</td>\n",
       "    </tr>\n",
       "    <tr>\n",
       "      <th>8</th>\n",
       "      <td>Speak English less than “very well” (LEP)</td>\n",
       "      <td>258217</td>\n",
       "    </tr>\n",
       "    <tr>\n",
       "      <th>9</th>\n",
       "      <td>Haitian</td>\n",
       "      <td>910380</td>\n",
       "    </tr>\n",
       "  </tbody>\n",
       "</table>\n",
       "</div>"
      ],
      "text/plain": [
       "  Language Spoken at Home (detailed, by English proficiency)     Number\n",
       "0        Total Household Population, Age 5 and Older          314929363\n",
       "1                                 Speak only English          245687577\n",
       "2                  Speak language other than English           69241786\n",
       "3                                            Spanish           42032538\n",
       "4                          Speak English \"very well\"           25274672\n",
       "5          Speak English less than “very well” (LEP)           16757866\n",
       "6                           French (Including Cajun)            1222970\n",
       "7                          Speak English \"very well\"             964753\n",
       "8          Speak English less than “very well” (LEP)             258217\n",
       "9                                            Haitian             910380"
      ]
     },
     "execution_count": 357,
     "metadata": {},
     "output_type": "execute_result"
    }
   ],
   "source": [
    "language[['Language Spoken at Home (detailed, by English proficiency)', 'Number']].head(10)\n"
   ]
  },
  {
   "cell_type": "markdown",
   "metadata": {},
   "source": [
    "I created an unwanted_row containing the specific categories that you wanted to remove from your dataset, such as \"Speak English\", \"Speak only English\", and others related to English proficiency. Using the isin() function, I checked if the values in the \"Language Spoken at Home\" column matched any of the items in the exclude_list. By negating this condition with the tilde (~), I filtered the DataFrame to exclude the rows where the values matched any entry in the list. This approach is helpful because it allows you to easily remove unwanted rows based on a set of specific categories, ensuring that your final dataset focuses only on relevant languages spoken at home, which is crucial for analysis where you’re interested in the actual languages spoken, rather than English proficiency or demographic categories."
   ]
  },
  {
   "cell_type": "code",
   "execution_count": 358,
   "metadata": {},
   "outputs": [
    {
     "name": "stderr",
     "output_type": "stream",
     "text": [
      "/var/folders/6l/7bh9vnpd3bqgbg7ctd65hpg40000gn/T/ipykernel_27126/2566214268.py:16: SettingWithCopyWarning: \n",
      "A value is trying to be set on a copy of a slice from a DataFrame\n",
      "\n",
      "See the caveats in the documentation: https://pandas.pydata.org/pandas-docs/stable/user_guide/indexing.html#returning-a-view-versus-a-copy\n",
      "  language_new.drop('%', axis=1, inplace=True)\n"
     ]
    },
    {
     "data": {
      "text/html": [
       "<div>\n",
       "<style scoped>\n",
       "    .dataframe tbody tr th:only-of-type {\n",
       "        vertical-align: middle;\n",
       "    }\n",
       "\n",
       "    .dataframe tbody tr th {\n",
       "        vertical-align: top;\n",
       "    }\n",
       "\n",
       "    .dataframe thead th {\n",
       "        text-align: right;\n",
       "    }\n",
       "</style>\n",
       "<table border=\"1\" class=\"dataframe\">\n",
       "  <thead>\n",
       "    <tr style=\"text-align: right;\">\n",
       "      <th></th>\n",
       "      <th>Language Spoken at Home (detailed, by English proficiency)</th>\n",
       "      <th>Number</th>\n",
       "    </tr>\n",
       "  </thead>\n",
       "  <tbody>\n",
       "    <tr>\n",
       "      <th>3</th>\n",
       "      <td>Spanish</td>\n",
       "      <td>42032538</td>\n",
       "    </tr>\n",
       "    <tr>\n",
       "      <th>6</th>\n",
       "      <td>French (Including Cajun)</td>\n",
       "      <td>1222970</td>\n",
       "    </tr>\n",
       "    <tr>\n",
       "      <th>9</th>\n",
       "      <td>Haitian</td>\n",
       "      <td>910380</td>\n",
       "    </tr>\n",
       "    <tr>\n",
       "      <th>12</th>\n",
       "      <td>Italian</td>\n",
       "      <td>521786</td>\n",
       "    </tr>\n",
       "    <tr>\n",
       "      <th>15</th>\n",
       "      <td>Portuguese</td>\n",
       "      <td>997882</td>\n",
       "    </tr>\n",
       "    <tr>\n",
       "      <th>18</th>\n",
       "      <td>German</td>\n",
       "      <td>876103</td>\n",
       "    </tr>\n",
       "    <tr>\n",
       "      <th>21</th>\n",
       "      <td>Yiddish, Pennsylvania Dutch or Other West Germ...</td>\n",
       "      <td>620027</td>\n",
       "    </tr>\n",
       "    <tr>\n",
       "      <th>24</th>\n",
       "      <td>Russian</td>\n",
       "      <td>974829</td>\n",
       "    </tr>\n",
       "    <tr>\n",
       "      <th>27</th>\n",
       "      <td>Polish</td>\n",
       "      <td>482519</td>\n",
       "    </tr>\n",
       "    <tr>\n",
       "      <th>30</th>\n",
       "      <td>Other Slavic Languages</td>\n",
       "      <td>680594</td>\n",
       "    </tr>\n",
       "    <tr>\n",
       "      <th>33</th>\n",
       "      <td>Armenian</td>\n",
       "      <td>239731</td>\n",
       "    </tr>\n",
       "    <tr>\n",
       "      <th>36</th>\n",
       "      <td>Persian (including Farsi, Dari)</td>\n",
       "      <td>514547</td>\n",
       "    </tr>\n",
       "    <tr>\n",
       "      <th>39</th>\n",
       "      <td>Gujarati</td>\n",
       "      <td>456887</td>\n",
       "    </tr>\n",
       "    <tr>\n",
       "      <th>42</th>\n",
       "      <td>Hindi</td>\n",
       "      <td>881242</td>\n",
       "    </tr>\n",
       "    <tr>\n",
       "      <th>45</th>\n",
       "      <td>Urdu</td>\n",
       "      <td>518759</td>\n",
       "    </tr>\n",
       "    <tr>\n",
       "      <th>48</th>\n",
       "      <td>Punjabi</td>\n",
       "      <td>342635</td>\n",
       "    </tr>\n",
       "    <tr>\n",
       "      <th>51</th>\n",
       "      <td>Bengali</td>\n",
       "      <td>416062</td>\n",
       "    </tr>\n",
       "    <tr>\n",
       "      <th>54</th>\n",
       "      <td>Nepali, Marathi, or Other Indic Languages</td>\n",
       "      <td>510267</td>\n",
       "    </tr>\n",
       "    <tr>\n",
       "      <th>57</th>\n",
       "      <td>Other Indo-European Languages</td>\n",
       "      <td>914710</td>\n",
       "    </tr>\n",
       "    <tr>\n",
       "      <th>60</th>\n",
       "      <td>Telugu</td>\n",
       "      <td>506033</td>\n",
       "    </tr>\n",
       "    <tr>\n",
       "      <th>63</th>\n",
       "      <td>Tamil</td>\n",
       "      <td>341204</td>\n",
       "    </tr>\n",
       "    <tr>\n",
       "      <th>66</th>\n",
       "      <td>Malayalam, Kannada, or Other Dravidian Languages</td>\n",
       "      <td>294033</td>\n",
       "    </tr>\n",
       "    <tr>\n",
       "      <th>69</th>\n",
       "      <td>Chinese (including Mandarin, Cantonese)</td>\n",
       "      <td>3507304</td>\n",
       "    </tr>\n",
       "    <tr>\n",
       "      <th>72</th>\n",
       "      <td>Japanese</td>\n",
       "      <td>431996</td>\n",
       "    </tr>\n",
       "    <tr>\n",
       "      <th>75</th>\n",
       "      <td>Korean</td>\n",
       "      <td>1110875</td>\n",
       "    </tr>\n",
       "    <tr>\n",
       "      <th>78</th>\n",
       "      <td>Hmong</td>\n",
       "      <td>234119</td>\n",
       "    </tr>\n",
       "    <tr>\n",
       "      <th>81</th>\n",
       "      <td>Vietnamese</td>\n",
       "      <td>1537826</td>\n",
       "    </tr>\n",
       "    <tr>\n",
       "      <th>84</th>\n",
       "      <td>Khmer</td>\n",
       "      <td>198275</td>\n",
       "    </tr>\n",
       "    <tr>\n",
       "      <th>87</th>\n",
       "      <td>Thai, Lao, or Other Tai-Kadai Languages</td>\n",
       "      <td>301544</td>\n",
       "    </tr>\n",
       "    <tr>\n",
       "      <th>90</th>\n",
       "      <td>Other Languages of Asia</td>\n",
       "      <td>503224</td>\n",
       "    </tr>\n",
       "    <tr>\n",
       "      <th>93</th>\n",
       "      <td>Tagalog (including Filipino)</td>\n",
       "      <td>1757649</td>\n",
       "    </tr>\n",
       "    <tr>\n",
       "      <th>96</th>\n",
       "      <td>Ilocano, Samoan, Hawaiian, or Other Austronesi...</td>\n",
       "      <td>485099</td>\n",
       "    </tr>\n",
       "    <tr>\n",
       "      <th>99</th>\n",
       "      <td>Arabic</td>\n",
       "      <td>1428025</td>\n",
       "    </tr>\n",
       "    <tr>\n",
       "      <th>102</th>\n",
       "      <td>Hebrew</td>\n",
       "      <td>221173</td>\n",
       "    </tr>\n",
       "    <tr>\n",
       "      <th>105</th>\n",
       "      <td>Amharic, Somali, or Other Afro-Asiatic Languages</td>\n",
       "      <td>623546</td>\n",
       "    </tr>\n",
       "    <tr>\n",
       "      <th>108</th>\n",
       "      <td>Yoruba, Twi, Igbo, or Other Languages of Weste...</td>\n",
       "      <td>673386</td>\n",
       "    </tr>\n",
       "    <tr>\n",
       "      <th>111</th>\n",
       "      <td>Swahili or Other Languages of Central, Eastern...</td>\n",
       "      <td>342318</td>\n",
       "    </tr>\n",
       "    <tr>\n",
       "      <th>114</th>\n",
       "      <td>Native Languages of North America</td>\n",
       "      <td>311685</td>\n",
       "    </tr>\n",
       "    <tr>\n",
       "      <th>117</th>\n",
       "      <td>Other and Unspecified Languages</td>\n",
       "      <td>318004</td>\n",
       "    </tr>\n",
       "  </tbody>\n",
       "</table>\n",
       "</div>"
      ],
      "text/plain": [
       "    Language Spoken at Home (detailed, by English proficiency)    Number\n",
       "3                                              Spanish          42032538\n",
       "6                             French (Including Cajun)           1222970\n",
       "9                                              Haitian            910380\n",
       "12                                             Italian            521786\n",
       "15                                          Portuguese            997882\n",
       "18                                              German            876103\n",
       "21   Yiddish, Pennsylvania Dutch or Other West Germ...            620027\n",
       "24                                             Russian            974829\n",
       "27                                              Polish            482519\n",
       "30                              Other Slavic Languages            680594\n",
       "33                                            Armenian            239731\n",
       "36                     Persian (including Farsi, Dari)            514547\n",
       "39                                            Gujarati            456887\n",
       "42                                               Hindi            881242\n",
       "45                                                Urdu            518759\n",
       "48                                             Punjabi            342635\n",
       "51                                             Bengali            416062\n",
       "54           Nepali, Marathi, or Other Indic Languages            510267\n",
       "57                       Other Indo-European Languages            914710\n",
       "60                                              Telugu            506033\n",
       "63                                               Tamil            341204\n",
       "66    Malayalam, Kannada, or Other Dravidian Languages            294033\n",
       "69             Chinese (including Mandarin, Cantonese)           3507304\n",
       "72                                            Japanese            431996\n",
       "75                                              Korean           1110875\n",
       "78                                               Hmong            234119\n",
       "81                                          Vietnamese           1537826\n",
       "84                                               Khmer            198275\n",
       "87             Thai, Lao, or Other Tai-Kadai Languages            301544\n",
       "90                             Other Languages of Asia            503224\n",
       "93                        Tagalog (including Filipino)           1757649\n",
       "96   Ilocano, Samoan, Hawaiian, or Other Austronesi...            485099\n",
       "99                                              Arabic           1428025\n",
       "102                                             Hebrew            221173\n",
       "105   Amharic, Somali, or Other Afro-Asiatic Languages            623546\n",
       "108  Yoruba, Twi, Igbo, or Other Languages of Weste...            673386\n",
       "111  Swahili or Other Languages of Central, Eastern...            342318\n",
       "114                  Native Languages of North America            311685\n",
       "117                    Other and Unspecified Languages            318004"
      ]
     },
     "execution_count": 358,
     "metadata": {},
     "output_type": "execute_result"
    }
   ],
   "source": [
    "unwanted_rows = [\n",
    "    \"Speak English\", \n",
    "    \"Total Household Population, Age 5 and Older\", \n",
    "    \"Speak only English\", \n",
    "    \"Speak language other than English\",\n",
    "     \"Speak English \\\"very well\\\"\",\n",
    "\n",
    "    \"Speak English less than “very well” (LEP)\"\n",
    "\n",
    "]\n",
    "\n",
    "# Apply the filter\n",
    "language_new = language[~language[\"Language Spoken at Home (detailed, by English proficiency)\"].isin(unwanted_rows)]\n",
    "\n",
    "# Display the filtered DataFrame\n",
    "language_new.drop('%', axis=1, inplace=True)\n",
    "language_new"
   ]
  },
  {
   "cell_type": "markdown",
   "metadata": {},
   "source": [
    "I selected the top 5 rows from the language_new DataFrame using the head(5) method to focus on the most spoken languages. I then created a horizontal bar chart using plt.barh(), where the language names are on the y-axis and the number of speakers is on the x-axis, with pink-colored bars. Finally, I labeled the axes with plt.xlabel() and set the chart title with plt.title(), while using plt.gca().invert_yaxis() to invert the y-axis so the highest values appear at the top."
   ]
  },
  {
   "cell_type": "code",
   "execution_count": 359,
   "metadata": {},
   "outputs": [
    {
     "data": {
      "image/png": "[encoded data removed]",
      "text/plain": [
       "<Figure size 1000x600 with 1 Axes>"
      ]
     },
     "metadata": {},
     "output_type": "display_data"
    }
   ],
   "source": [
    "top_10_languages = language_new.head(5)\n",
    "\n",
    "\n",
    "plt.figure(figsize=(10, 6))  \n",
    "plt.barh(top_10_languages[\"Language Spoken at Home (detailed, by English proficiency)\"], \n",
    "         top_10_languages[\"Number\"], color='pink')\n",
    "\n",
    "plt.xlabel('Number of Speakers')\n",
    "plt.title('Top 10 Languages Spoken at Home')\n",
    "\n",
    "plt.gca().invert_yaxis()  \n",
    "plt.show()\n",
    "\n"
   ]
  },
  {
   "cell_type": "markdown",
   "metadata": {},
   "source": [
    "## Model Plan"
   ]
  },
  {
   "cell_type": "markdown",
   "metadata": {},
   "source": [
    "Using datasets on language spoken at home and immigration trends in the United States over the past 5, 10, and 15 years, I aim to predict future language distributions and immigration patterns. Specifically, I will examine how the most commonly spoken languages in the U.S. have evolved and extrapolate these trends to predict which languages will dominate in the next 5 and 10 years. By analyzing data on the number of people speaking languages other than English and English proficiency levels, I can forecast the future linguistic landscape of the country. Additionally, I will explore how many immigrants the U.S. will receive from specific countries over the next 5 and 10 years. This will involve analyzing trends in asylum seekers, refugees, and visa categories to predict the number of immigrants from each country, as well as identifying which states they are likely to settle in based on regional migration patterns observed in the past.\n",
    "\n",
    "The analysis will begin with trend identification using historical data, and then I will apply time series forecasting and regression models to predict future values for both language populations and immigration numbers. By examining growth rates and patterns, I will make data-driven predictions about future language diversity in the U.S. and the distribution of immigrant populations across states. For accuracy, the models will be validated using performance metrics like RMSE and MAE, and I will use regional data to highlight which states will see the most significant increases in immigrant populations. This research will provide insights into the future demographic and linguistic shifts in the United States, helping to anticipate changes that may shape the country’s social and cultural landscape."
   ]
  }
 ],
 "metadata": {
  "kernelspec": {
   "display_name": "Python 3",
   "language": "python",
   "name": "python3"
  },
  "language_info": {
   "codemirror_mode": {
    "name": "ipython",
    "version": 3
   },
   "file_extension": ".py",
   "mimetype": "text/x-python",
   "name": "python",
   "nbconvert_exporter": "python",
   "pygments_lexer": "ipython3",
   "version": "3.9.6"
  }
 },
 "nbformat": 4,
 "nbformat_minor": 2
}
